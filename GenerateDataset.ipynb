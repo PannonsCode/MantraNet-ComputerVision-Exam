{
  "nbformat": 4,
  "nbformat_minor": 0,
  "metadata": {
    "colab": {
      "name": "GenerateDataset.ipynb",
      "provenance": [],
      "collapsed_sections": []
    },
    "kernelspec": {
      "name": "python3",
      "display_name": "Python 3"
    },
    "language_info": {
      "name": "python"
    },
    "accelerator": "GPU"
  },
  "cells": [
    {
      "cell_type": "code",
      "execution_count": 1,
      "metadata": {
        "id": "OjhsWby3NLiP"
      },
      "outputs": [],
      "source": [
        "#LIBRERIES\n",
        "\n",
        "import numpy as np\n",
        "import os\n",
        "from PIL import Image, ImageFilter, ImageOps\n",
        "from skimage.util import random_noise\n",
        "from skimage import io\n",
        "from random import random\n",
        "\n",
        "import matplotlib.pyplot as plt\n",
        "import matplotlib.patheffects as path_effects\n",
        "\n",
        "import cv2"
      ]
    },
    {
      "cell_type": "code",
      "source": [
        "from skimage.color.colorconv import gray2rgb\n",
        "#Get a list of paths of images from files\n",
        "def getFiles(path):\n",
        "    images = []\n",
        "    count = 0\n",
        "    for file in sorted(os.listdir(path +'/')):\n",
        "        images.append(path + '/'+  file)\n",
        "    return images\n",
        "\n",
        "#Read the images from path\n",
        "def readImage(img_path):\n",
        "\n",
        "  img = cv2.imread(img_path) \n",
        "\n",
        "  return img\n",
        "\n",
        "def list_from_files(files):\n",
        "\n",
        "  l = []\n",
        "\n",
        "  for img_path in files:\n",
        "    l.append(readImage(img_path))\n",
        "\n",
        "  return l\n",
        "\n",
        "def manipulate_images(imgs, path_blur, path_noise, path_contrast, path_morphing, path_resampling):\n",
        "\n",
        "  n_samples = np.int(len(imgs)/5)\n",
        "  i = 0\n",
        "\n",
        "  i = add_blur(imgs[0:n_samples], path_blur, i)\n",
        "  i = add_noise(imgs[n_samples:2*n_samples], path_noise, i)\n",
        "  i = change_contrast(imgs[2*n_samples:3*n_samples], path_contrast, i)\n",
        "  i = add_morphing(imgs[3*n_samples:4*n_samples], path_morphing, i)\n",
        "  i = resampling(imgs[4*n_samples:5*n_samples], path_resampling, i)\n",
        "\n",
        "def add_blur(imgs, path, i):\n",
        "\n",
        "  list_kernel = [3,5,7,9,11,13,15,17,19,21]\n",
        "  len_list_kernel = len(list_kernel)\n",
        "\n",
        "  for  img in imgs:\n",
        "\n",
        "    index = np.random.randint(0,len_list_kernel)\n",
        "    im = Image.open(img)\n",
        "    im = im.filter(ImageFilter.BoxBlur(list_kernel[index])) \n",
        "    im.save(path+\"/\"+np.str(i)+\".jpg\")\n",
        "    i = i+1\n",
        "\n",
        "    index = np.random.randint(0,len_list_kernel)\n",
        "    im = Image.open(img)\n",
        "    im = im.filter(ImageFilter.GaussianBlur(list_kernel[index])) \n",
        "    im.save(path+\"/\"+np.str(i)+\".jpg\")\n",
        "    i = i+1\n",
        "\n",
        "  return i\n",
        "\n",
        "def add_noise(imgs, path, i):\n",
        "\n",
        "  list_kernel = [3,5,7,9,11,13,15,17,19,21]\n",
        "  len_list_kernel = len(list_kernel)\n",
        "\n",
        "  for  img in imgs:\n",
        "\n",
        "    index = np.random.randint(0,len_list_kernel)\n",
        "    im = cv2.imread(img)\n",
        "    noise_img = random_noise(im, 'gaussian', list_kernel[index])\n",
        "    im = (noise_img*255).astype(np.uint8)\n",
        "    cv2.imwrite(path+\"/\"+np.str(i)+\".jpg\", im)\n",
        "    i = i+1\n",
        "\n",
        "    index = np.random.randint(0,10)\n",
        "    im = cv2.imread(img)\n",
        "    noise_img = random_noise(im, 's&p', list_kernel[index])\n",
        "    im = (noise_img*255).astype(np.uint8)\n",
        "    cv2.imwrite(path+\"/\"+np.str(i)+\".jpg\", im)\n",
        "    i = i+1\n",
        "\n",
        "  return i\n",
        "\n",
        "def change_contrast(imgs, path, i):\n",
        "\n",
        "  list_kernel = [1,2,3,4,5,6,7]\n",
        "  len_list_kernel = len(list_kernel)\n",
        "\n",
        "  for img in imgs:\n",
        "\n",
        "    index = np.random.randint(0,len_list_kernel)\n",
        "    im = Image.open(img)\n",
        "    im = ImageOps.autocontrast(im, list_kernel[index])   \n",
        "    im.save(path+\"/\"+np.str(i)+\".jpg\")\n",
        "    i = i+1\n",
        "\n",
        "    index = np.random.randint(0,len_list_kernel)\n",
        "    im = Image.open(img)\n",
        "    im = ImageOps.autocontrast(im, list_kernel[index])   \n",
        "    im.save(path+\"/\"+np.str(i)+\".jpg\")\n",
        "    i = i+1\n",
        "\n",
        "  return i\n",
        "\n",
        "def add_morphing(imgs, path, i):\n",
        "\n",
        "  list_kernel = [3,5,7,9,11,13]\n",
        "  len_list_kernel = len(list_kernel)\n",
        "  op = [cv2.MORPH_CLOSE, cv2.MORPH_DILATE, cv2.MORPH_CLOSE, cv2.MORPH_OPEN, cv2.MORPH_GRADIENT]\n",
        "  len_list_op = len(op)\n",
        "\n",
        "  for img in imgs:\n",
        "\n",
        "    index = np.random.randint(0,len_list_kernel)\n",
        "    index_op = np.random.randint(0,len_list_op)\n",
        "    im = cv2.imread(img, 0)\n",
        "    kernel = np.ones(list_kernel[index],np.uint8)\n",
        "    im = cv2.morphologyEx(im, op[index_op], kernel)\n",
        "    im = cv2.cvtColor(im, cv2.COLOR_GRAY2BGR)\n",
        "    cv2.imwrite(path+\"/\"+np.str(i)+\".jpg\", im)\n",
        "    i = i+1\n",
        "\n",
        "    index = np.random.randint(0,len_list_kernel)\n",
        "    index_op = np.random.randint(0,len_list_op)\n",
        "    im = cv2.imread(img, 0)\n",
        "    kernel = np.ones(list_kernel[index],np.uint8)\n",
        "    im = cv2.morphologyEx(im, op[index_op], kernel)\n",
        "    im = cv2.cvtColor(im, cv2.COLOR_GRAY2BGR)\n",
        "    cv2.imwrite(path+\"/\"+np.str(i)+\".jpg\", im)\n",
        "    i = i+1\n",
        "\n",
        "  return i\n",
        "\n",
        "def resampling(imgs, path, i):\n",
        "\n",
        "  list_kernel = [0.51, 0.62, 0.73, 0.84, 0.95, \n",
        "                 1.05, 1.16, 1.27, 1.38, 1.49]\n",
        "  len_list_kernel = len(list_kernel)\n",
        "\n",
        "  op = [cv2.INTER_CUBIC, cv2.INTER_NEAREST, cv2.INTER_LINEAR, \n",
        "        cv2.INTER_LANCZOS4, cv2.INTER_MAX ]\n",
        "  len_list_op = len(op)\n",
        "\n",
        "  for img in imgs:\n",
        "\n",
        "    index = np.random.randint(0,len_list_kernel)\n",
        "    index_op = np.random.randint(0,len_list_op)\n",
        "    factor = list_kernel[index]\n",
        "    im = cv2.imread(img)\n",
        "    im = cv2.resize(im, None, fx=factor, fy=factor, interpolation = cv2.INTER_CUBIC)\n",
        "    cv2.imwrite(path+\"/\"+np.str(i)+\".jpg\", im)\n",
        "    i = i+1\n",
        "\n",
        "    index = np.random.randint(0,len_list_kernel)\n",
        "    index_op = np.random.randint(0,len_list_op)\n",
        "    factor = list_kernel[index]\n",
        "    im = cv2.imread(img)\n",
        "    im = cv2.resize(im, None, fx=factor, fy=factor, interpolation = cv2.INTER_CUBIC)\n",
        "    cv2.imwrite(path+\"/\"+np.str(i)+\".jpg\", im)\n",
        "    i = i+1\n",
        "\n",
        "  return i "
      ],
      "metadata": {
        "id": "zMT-kZPPOv7V"
      },
      "execution_count": 2,
      "outputs": []
    },
    {
      "cell_type": "code",
      "source": [
        "path = \"/content/drive/MyDrive/test_set\"\n",
        "path_blur = \"/content/drive/MyDrive/dataset_test/blurring\"\n",
        "path_noise = \"/content/drive/MyDrive/dataset_test/noise\"\n",
        "path_contrast = \"/content/drive/MyDrive/dataset_test/contrast\"\n",
        "path_morphing = \"/content/drive/MyDrive/dataset_test/morphing\"\n",
        "path_resampling = \"/content/drive/MyDrive/dataset_test/resampling\""
      ],
      "metadata": {
        "id": "QKUDhloaQCRF"
      },
      "execution_count": 10,
      "outputs": []
    },
    {
      "cell_type": "code",
      "source": [
        "imgs_files = getFiles(path)"
      ],
      "metadata": {
        "id": "Va2l0p72QkYK"
      },
      "execution_count": 8,
      "outputs": []
    },
    {
      "cell_type": "code",
      "source": [
        "from google.colab import drive\n",
        "drive.mount('/content/drive')"
      ],
      "metadata": {
        "colab": {
          "base_uri": "https://localhost:8080/"
        },
        "id": "6LZ2FNdqzgom",
        "outputId": "d99fdfed-282f-4dae-dbde-b6d024a95f16"
      },
      "execution_count": 7,
      "outputs": [
        {
          "output_type": "stream",
          "name": "stdout",
          "text": [
            "Mounted at /content/drive\n"
          ]
        }
      ]
    },
    {
      "cell_type": "code",
      "source": [
        "manipulate_images(imgs_files, path_blur, path_noise, path_contrast, path_morphing, path_resampling)"
      ],
      "metadata": {
        "id": "mlXEUfdKXCSk"
      },
      "execution_count": 11,
      "outputs": []
    }
  ]
}